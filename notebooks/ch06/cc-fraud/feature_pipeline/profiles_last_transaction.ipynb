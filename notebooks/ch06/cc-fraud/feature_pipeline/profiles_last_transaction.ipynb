{
 "cells": [
  {
   "cell_type": "code",
   "execution_count": 1,
   "id": "3f37b8a5",
   "metadata": {},
   "outputs": [],
   "source": [
    "import hopsworks\n",
    "import great_expectations as ge\n",
    "from great_expectations.core import ExpectationSuite, ExpectationConfiguration\n",
    "\n",
    "import math\n",
    "import pandas as pd\n",
    "\n",
    "from features.transactions import calculate_time_delta_t_minus_1, calculate_loc_delta_t_minus_1"
   ]
  },
  {
   "cell_type": "code",
   "execution_count": 20,
   "id": "21f55702",
   "metadata": {},
   "outputs": [
    {
     "name": "stdout",
     "output_type": "stream",
     "text": [
      "Connection closed.\n",
      "Connected. Call `.close()` to terminate connection gracefully.\n",
      "\n",
      "Logged in to project, explore it here https://pocs.cloud.hopsworks.ai/p/125\n",
      "Connected. Call `.close()` to terminate connection gracefully.\n"
     ]
    }
   ],
   "source": [
    "# Connect to the Hopsworks Feature Store\n",
    "project = hopsworks.login()\n",
    "fs = project.get_feature_store()"
   ]
  },
  {
   "cell_type": "code",
   "execution_count": 21,
   "id": "6190a46e",
   "metadata": {},
   "outputs": [],
   "source": [
    "# Read the historical transaction data\n",
    "transactions_pdf = pd.read_csv(\"../../../../../RawData/historical_transactions.csv\", parse_dates=['datetime'])"
   ]
  },
  {
   "cell_type": "code",
   "execution_count": 22,
   "id": "29dd4096",
   "metadata": {},
   "outputs": [],
   "source": [
    "transactions_pdf = transactions_pdf[[\"datetime\", \"cc_num\", \"latitude\", 'longitude']]\n",
    "\n",
    "# cc_num is more of an account_id rather than a proper credit card number, rename the column to avoid confusion\n",
    "transactions_pdf.rename(columns={'cc_num': 'account_id', 'datetime': 'last_transaction_datetime'}, inplace=True) "
   ]
  },
  {
   "cell_type": "code",
   "execution_count": 23,
   "id": "a47ddac3",
   "metadata": {},
   "outputs": [],
   "source": [
    "profiles_last_transaction_pdf = transactions_pdf.sort_values('last_transaction_datetime').groupby('account_id').tail(1)"
   ]
  },
  {
   "cell_type": "code",
   "execution_count": 24,
   "id": "e3fe448f",
   "metadata": {},
   "outputs": [
    {
     "data": {
      "text/html": [
       "<div>\n",
       "<style scoped>\n",
       "    .dataframe tbody tr th:only-of-type {\n",
       "        vertical-align: middle;\n",
       "    }\n",
       "\n",
       "    .dataframe tbody tr th {\n",
       "        vertical-align: top;\n",
       "    }\n",
       "\n",
       "    .dataframe thead th {\n",
       "        text-align: right;\n",
       "    }\n",
       "</style>\n",
       "<table border=\"1\" class=\"dataframe\">\n",
       "  <thead>\n",
       "    <tr style=\"text-align: right;\">\n",
       "      <th></th>\n",
       "      <th>last_transaction_datetime</th>\n",
       "      <th>account_id</th>\n",
       "      <th>latitude</th>\n",
       "      <th>longitude</th>\n",
       "    </tr>\n",
       "  </thead>\n",
       "  <tbody>\n",
       "    <tr>\n",
       "      <th>45674</th>\n",
       "      <td>2024-03-12 15:13:58</td>\n",
       "      <td>9fb0eada8456d27aef2b641ed31b4e2d</td>\n",
       "      <td>46.09273</td>\n",
       "      <td>-88.64235</td>\n",
       "    </tr>\n",
       "    <tr>\n",
       "      <th>48035</th>\n",
       "      <td>2024-03-20 16:05:39</td>\n",
       "      <td>76e9b3d0385f477d02528e22ec255d03</td>\n",
       "      <td>36.91023</td>\n",
       "      <td>-121.75689</td>\n",
       "    </tr>\n",
       "    <tr>\n",
       "      <th>48281</th>\n",
       "      <td>2024-03-21 14:16:35</td>\n",
       "      <td>f4b5cff50c3c7af1b1c95376b5f4c834</td>\n",
       "      <td>40.57788</td>\n",
       "      <td>-73.95958</td>\n",
       "    </tr>\n",
       "    <tr>\n",
       "      <th>48727</th>\n",
       "      <td>2024-03-23 00:59:11</td>\n",
       "      <td>46408cecc8bc7451058ee26b2219abda</td>\n",
       "      <td>36.61033</td>\n",
       "      <td>-88.31476</td>\n",
       "    </tr>\n",
       "    <tr>\n",
       "      <th>48955</th>\n",
       "      <td>2024-03-23 18:03:28</td>\n",
       "      <td>97fcd8df94c0e076a89ae7099fa37e69</td>\n",
       "      <td>41.15376</td>\n",
       "      <td>-87.88754</td>\n",
       "    </tr>\n",
       "    <tr>\n",
       "      <th>...</th>\n",
       "      <td>...</td>\n",
       "      <td>...</td>\n",
       "      <td>...</td>\n",
       "      <td>...</td>\n",
       "    </tr>\n",
       "    <tr>\n",
       "      <th>53995</th>\n",
       "      <td>2024-04-09 16:56:01</td>\n",
       "      <td>2dd9b007dc4752ed27c551e281b686e9</td>\n",
       "      <td>38.17492</td>\n",
       "      <td>-122.26080</td>\n",
       "    </tr>\n",
       "    <tr>\n",
       "      <th>53996</th>\n",
       "      <td>2024-04-09 17:21:21</td>\n",
       "      <td>4e425702ea0aab25bdbfca71bd15a8f9</td>\n",
       "      <td>42.24113</td>\n",
       "      <td>-88.31620</td>\n",
       "    </tr>\n",
       "    <tr>\n",
       "      <th>53997</th>\n",
       "      <td>2024-04-09 17:36:31</td>\n",
       "      <td>ee20ed61c7108f9ca4ce4b8c4ba85bc5</td>\n",
       "      <td>45.16024</td>\n",
       "      <td>-93.08883</td>\n",
       "    </tr>\n",
       "    <tr>\n",
       "      <th>53998</th>\n",
       "      <td>2024-04-09 17:39:34</td>\n",
       "      <td>6a4dea5846b81579f040f3b2eed419ae</td>\n",
       "      <td>34.25628</td>\n",
       "      <td>-78.04471</td>\n",
       "    </tr>\n",
       "    <tr>\n",
       "      <th>53999</th>\n",
       "      <td>2024-04-09 17:48:28</td>\n",
       "      <td>1b9345de29f7df45a2716cf3ef4b7412</td>\n",
       "      <td>41.14676</td>\n",
       "      <td>-73.49484</td>\n",
       "    </tr>\n",
       "  </tbody>\n",
       "</table>\n",
       "<p>1000 rows × 4 columns</p>\n",
       "</div>"
      ],
      "text/plain": [
       "      last_transaction_datetime                        account_id  latitude  \\\n",
       "45674       2024-03-12 15:13:58  9fb0eada8456d27aef2b641ed31b4e2d  46.09273   \n",
       "48035       2024-03-20 16:05:39  76e9b3d0385f477d02528e22ec255d03  36.91023   \n",
       "48281       2024-03-21 14:16:35  f4b5cff50c3c7af1b1c95376b5f4c834  40.57788   \n",
       "48727       2024-03-23 00:59:11  46408cecc8bc7451058ee26b2219abda  36.61033   \n",
       "48955       2024-03-23 18:03:28  97fcd8df94c0e076a89ae7099fa37e69  41.15376   \n",
       "...                         ...                               ...       ...   \n",
       "53995       2024-04-09 16:56:01  2dd9b007dc4752ed27c551e281b686e9  38.17492   \n",
       "53996       2024-04-09 17:21:21  4e425702ea0aab25bdbfca71bd15a8f9  42.24113   \n",
       "53997       2024-04-09 17:36:31  ee20ed61c7108f9ca4ce4b8c4ba85bc5  45.16024   \n",
       "53998       2024-04-09 17:39:34  6a4dea5846b81579f040f3b2eed419ae  34.25628   \n",
       "53999       2024-04-09 17:48:28  1b9345de29f7df45a2716cf3ef4b7412  41.14676   \n",
       "\n",
       "       longitude  \n",
       "45674  -88.64235  \n",
       "48035 -121.75689  \n",
       "48281  -73.95958  \n",
       "48727  -88.31476  \n",
       "48955  -87.88754  \n",
       "...          ...  \n",
       "53995 -122.26080  \n",
       "53996  -88.31620  \n",
       "53997  -93.08883  \n",
       "53998  -78.04471  \n",
       "53999  -73.49484  \n",
       "\n",
       "[1000 rows x 4 columns]"
      ]
     },
     "execution_count": 24,
     "metadata": {},
     "output_type": "execute_result"
    }
   ],
   "source": [
    "profiles_last_transaction_pdf"
   ]
  },
  {
   "cell_type": "code",
   "execution_count": 25,
   "id": "1c2a63d2",
   "metadata": {},
   "outputs": [],
   "source": [
    "# Create the feature group metadata\n",
    "profiles_last_transaction_fg = fs.get_or_create_feature_group(\n",
    "    name=\"profiles_last_transaction\",\n",
    "    version=1,\n",
    "    description=\"Last transaction time and location for each account\",\n",
    "    primary_key=['account_id'],\n",
    "    event_time='last_transaction_datetime',\n",
    "    online_enabled=True,\n",
    "    statistics_config={'histograms': True, 'correlations': True}\n",
    ")"
   ]
  },
  {
   "cell_type": "code",
   "execution_count": 26,
   "id": "3acdd66b",
   "metadata": {},
   "outputs": [
    {
     "name": "stdout",
     "output_type": "stream",
     "text": [
      "Feature Group created successfully, explore it at \n",
      "https://pocs.cloud.hopsworks.ai/p/125/fs/73/fg/56\n"
     ]
    },
    {
     "data": {
      "application/vnd.jupyter.widget-view+json": {
       "model_id": "7d3f926e02734e74b9a6b44c8b671d19",
       "version_major": 2,
       "version_minor": 0
      },
      "text/plain": [
       "Uploading Dataframe: 0.00% |          | Rows 0/1000 | Elapsed Time: 00:00 | Remaining Time: ?"
      ]
     },
     "metadata": {},
     "output_type": "display_data"
    },
    {
     "name": "stdout",
     "output_type": "stream",
     "text": [
      "Launching job: profiles_last_transaction_1_offline_fg_materialization\n",
      "Job started successfully, you can follow the progress at \n",
      "https://pocs.cloud.hopsworks.ai/p/125/jobs/named/profiles_last_transaction_1_offline_fg_materialization/executions\n"
     ]
    },
    {
     "data": {
      "text/plain": [
       "(<hsfs.core.job.Job at 0x7f0ae6263040>, None)"
      ]
     },
     "execution_count": 26,
     "metadata": {},
     "output_type": "execute_result"
    }
   ],
   "source": [
    "# Insert data into feature group\n",
    "profiles_last_transaction_fg.insert(profiles_last_transaction_pdf)"
   ]
  },
  {
   "cell_type": "code",
   "execution_count": null,
   "id": "76f0f35b",
   "metadata": {},
   "outputs": [],
   "source": []
  }
 ],
 "metadata": {
  "kernelspec": {
   "display_name": "Python 3",
   "language": "python",
   "name": "python3"
  },
  "language_info": {
   "codemirror_mode": {
    "name": "ipython",
    "version": 3
   },
   "file_extension": ".py",
   "mimetype": "text/x-python",
   "name": "python",
   "nbconvert_exporter": "python",
   "pygments_lexer": "ipython3",
   "version": "3.10.11"
  }
 },
 "nbformat": 4,
 "nbformat_minor": 5
}

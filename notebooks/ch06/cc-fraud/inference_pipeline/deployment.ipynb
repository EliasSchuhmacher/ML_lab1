{
 "cells": [
  {
   "cell_type": "code",
   "execution_count": 1,
   "id": "8bfe82b5",
   "metadata": {},
   "outputs": [
    {
     "name": "stdout",
     "output_type": "stream",
     "text": [
      "Connected. Call `.close()` to terminate connection gracefully.\n",
      "\n",
      "Logged in to project, explore it here https://pocs.cloud.hopsworks.ai/p/125\n",
      "Connected. Call `.close()` to terminate connection gracefully.\n"
     ]
    }
   ],
   "source": [
    "import hopsworks\n",
    "import os\n",
    "project = hopsworks.login()\n",
    "mr = project.get_model_registry()\n",
    "\n",
    "# get model object\n",
    "model = mr.get_model(\"xgboost_fraud_model\", version=1)"
   ]
  },
  {
   "cell_type": "code",
   "execution_count": 9,
   "id": "d7624508",
   "metadata": {},
   "outputs": [
    {
     "name": "stdout",
     "output_type": "stream",
     "text": [
      "Overwriting /tmp/predict_example.py\n"
     ]
    }
   ],
   "source": [
    "%%writefile /tmp/predict_example.py\n",
    "import os\n",
    "import numpy as np\n",
    "import pandas as pd\n",
    "import hsfs\n",
    "import joblib\n",
    "\n",
    "\n",
    "class Predict(object):\n",
    "\n",
    "    def __init__(self):\n",
    "        \"\"\"Initializes the serving state, reads a trained model\"\"\"\n",
    "        # get feature store handle\n",
    "        fs_conn = hsfs.connection()\n",
    "        fs = fs_conn.get_feature_store()\n",
    "\n",
    "        # get feature view\n",
    "        self.fraud_fv = fs.get_feature_view(\"fraud_model_fv\", 1)\n",
    "\n",
    "        # initialize serving\n",
    "        self.fraud_fv.init_serving(1)\n",
    "\n",
    "        # load the trained model\n",
    "        self.model = joblib.load(\n",
    "            os.environ[\"ARTIFACT_FILES_PATH\"] + \"/xgboost_fraud_model.pkl\"\n",
    "        )\n",
    "\n",
    "        print(\"Initialization Complete\")\n",
    "\n",
    "    def predict(self, inputs):\n",
    "        feature_vector = self.prepare_feature_vector(inputs[0])\n",
    "        return self.model.predict(np.asarray(feature_vector).reshape(1, -1)).tolist()\n",
    "\n",
    "    def prepare_feature_vector(self, input_transaction):\n",
    "        # Fetch Inference Helper feature values to compute on-demand features\n",
    "        helpers_df = self.fraud_fv.get_inference_helper(\n",
    "            entry={\"account_id\": input_transaction[\"account_id\"]}\n",
    "        )\n",
    "\n",
    "        # Compute on-demand features\n",
    "        passed_features = {\n",
    "            \"time_delta_t_minus_1\": (\n",
    "                (pd.Timestamp.now() - helpers_df[\"last_transaction_datetime\"])\n",
    "                / np.timedelta64(1, \"D\")\n",
    "            ).iloc[0],\n",
    "            \"loc_delta_t_minus_1\": self._haversine(\n",
    "                helpers_df[\"latitude\"].iloc[0],\n",
    "                helpers_df[\"longitude\"].iloc[0],\n",
    "                input_transaction[\"latitude\"],\n",
    "                input_transaction[\"longitude\"],\n",
    "            ),\n",
    "            \"outside_city\": (\n",
    "                0 if helpers_df[\"city\"].iloc[0] == input_transaction[\"city\"] else 1\n",
    "            ),\n",
    "        }\n",
    "\n",
    "        # Merge on-demand features with input_transaction\n",
    "        passed_features.update(input_transaction)\n",
    "\n",
    "        # Fetch feature vector\n",
    "        return self.fraud_fv.get_feature_vector(\n",
    "            entry={\"account_id\": input_transaction[\"account_id\"]},\n",
    "            passed_features=passed_features,\n",
    "            return_type=\"pandas\",\n",
    "        )\n",
    "\n",
    "    def _haversine(self, lat_1, long_1, lat_2, long_2):\n",
    "        long_diff = long_1 - long_2\n",
    "        lat_diff = lat_1 - lat_2\n",
    "\n",
    "        a = np.sin(lat_diff / 2.0) ** 2\n",
    "        b = np.cos(lat_1) * np.cos(lat_2) * np.sin(long_diff / 2.0) ** 2\n",
    "        return 2 * np.arcsin(np.sqrt(a + b))"
   ]
  },
  {
   "cell_type": "code",
   "execution_count": 10,
   "id": "a4e3ba80",
   "metadata": {},
   "outputs": [
    {
     "data": {
      "application/vnd.jupyter.widget-view+json": {
       "model_id": "b96f613a81194997b87e42fbe6bbb75d",
       "version_major": 2,
       "version_minor": 0
      },
      "text/plain": [
       "Uploading: 0.000%|          | 0/2387 elapsed<00:00 remaining<?"
      ]
     },
     "metadata": {},
     "output_type": "display_data"
    }
   ],
   "source": [
    "# Get the dataset API for the current project\n",
    "dataset_api = project.get_dataset_api()\n",
    "\n",
    "# Specify the local file path of the Python script to be uploaded\n",
    "local_script_path = \"/tmp/predict_example.py\"\n",
    "\n",
    "# Upload the Python script to the \"Models\", and overwrite if it already exists\n",
    "uploaded_file_path = dataset_api.upload(local_script_path, \"Models\", overwrite=True)\n",
    "\n",
    "# Create the full path to the uploaded script for future reference\n",
    "predictor_script_path = os.path.join(\"/Projects\", project.name, uploaded_file_path)"
   ]
  },
  {
   "cell_type": "code",
   "execution_count": 11,
   "id": "5e98174a",
   "metadata": {},
   "outputs": [
    {
     "name": "stdout",
     "output_type": "stream",
     "text": [
      "Deployment created, explore it at https://pocs.cloud.hopsworks.ai/p/125/deployments/14\n",
      "Before making predictions, start the deployment by using `.start()`\n"
     ]
    }
   ],
   "source": [
    "# Deploy the fraud model\n",
    "deployment = model.deploy(\n",
    "    name=\"fraudonlinedep1\",\n",
    "    script_file=predictor_script_path,\n",
    ")"
   ]
  },
  {
   "cell_type": "code",
   "execution_count": 12,
   "id": "97bf3e39",
   "metadata": {},
   "outputs": [
    {
     "data": {
      "application/vnd.jupyter.widget-view+json": {
       "model_id": "963352a0a5ea4d23851fcf127f383e2b",
       "version_major": 2,
       "version_minor": 0
      },
      "text/plain": [
       "  0%|          | 0/5 [00:00<?, ?it/s]"
      ]
     },
     "metadata": {},
     "output_type": "display_data"
    },
    {
     "name": "stdout",
     "output_type": "stream",
     "text": [
      "Start making predictions by using `.predict()`\n"
     ]
    }
   ],
   "source": [
    "deployment.start(await_running=300)"
   ]
  },
  {
   "cell_type": "code",
   "execution_count": 13,
   "id": "bfc0a3bf",
   "metadata": {},
   "outputs": [
    {
     "name": "stdout",
     "output_type": "stream",
     "text": [
      "Deployment: fraudonlinedep1\n",
      "{\n",
      "    \"artifact_version\": 2,\n",
      "    \"batching_configuration\": {\n",
      "        \"batching_enabled\": false\n",
      "    },\n",
      "    \"created\": \"2024-04-11T22:53:42.985Z\",\n",
      "    \"creator\": \"Fabio Buso\",\n",
      "    \"description\": null,\n",
      "    \"id\": 14,\n",
      "    \"inference_logging\": \"NONE\",\n",
      "    \"model_framework\": \"PYTHON\",\n",
      "    \"model_name\": \"xgboost_fraud_model\",\n",
      "    \"model_path\": \"/Projects/real_time_fraud_python/Models/xgboost_fraud_model\",\n",
      "    \"model_server\": \"PYTHON\",\n",
      "    \"model_version\": 1,\n",
      "    \"name\": \"fraudonlinedep1\",\n",
      "    \"predictor\": \"predict_example.py\",\n",
      "    \"predictor_resources\": {\n",
      "        \"limits\": {\n",
      "            \"cores\": 0.5,\n",
      "            \"gpus\": 0,\n",
      "            \"memory\": 1024\n",
      "        },\n",
      "        \"requests\": {\n",
      "            \"cores\": 0.2,\n",
      "            \"gpus\": 0,\n",
      "            \"memory\": 32\n",
      "        }\n",
      "    },\n",
      "    \"requested_instances\": 0,\n",
      "    \"serving_tool\": \"KSERVE\"\n",
      "}\n"
     ]
    }
   ],
   "source": [
    "# Print the name of the deployment\n",
    "print(\"Deployment: \" + deployment.name)\n",
    "\n",
    "# Display information about the deployment\n",
    "deployment.describe()"
   ]
  },
  {
   "cell_type": "code",
   "execution_count": 18,
   "id": "dacf96f6",
   "metadata": {},
   "outputs": [
    {
     "data": {
      "text/plain": [
       "{'predictions': [0]}"
      ]
     },
     "execution_count": 18,
     "metadata": {},
     "output_type": "execute_result"
    }
   ],
   "source": [
    "# Make a prediction\n",
    "deployment.predict(inputs = {\n",
    "    'account_id': '3b91e417a8584cdc56544cf372b8fe3f',\n",
    "    'amount': 1234,\n",
    "    'category': 'Cash Withdrawal',\n",
    "    'city': 'Collinwood',\n",
    "    'latitude': 40.65538,\n",
    "    'longitude': -74.38987\n",
    "})"
   ]
  },
  {
   "cell_type": "code",
   "execution_count": null,
   "id": "bdf81c4a",
   "metadata": {},
   "outputs": [],
   "source": []
  }
 ],
 "metadata": {
  "kernelspec": {
   "display_name": "Python 3",
   "language": "python",
   "name": "python3"
  },
  "language_info": {
   "codemirror_mode": {
    "name": "ipython",
    "version": 3
   },
   "file_extension": ".py",
   "mimetype": "text/x-python",
   "name": "python",
   "nbconvert_exporter": "python",
   "pygments_lexer": "ipython3",
   "version": "3.10.11"
  }
 },
 "nbformat": 4,
 "nbformat_minor": 5
}

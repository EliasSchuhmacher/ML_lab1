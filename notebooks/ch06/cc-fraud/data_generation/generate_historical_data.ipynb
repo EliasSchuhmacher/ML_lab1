{
 "cells": [
  {
   "cell_type": "code",
   "execution_count": 1,
   "id": "ced9b6d5",
   "metadata": {},
   "outputs": [],
   "source": [
    "from transactions import get_transactions"
   ]
  },
  {
   "cell_type": "code",
   "execution_count": 5,
   "id": "1c2b201c",
   "metadata": {},
   "outputs": [],
   "source": [
    "trans_df, fraud_labels, profiles_df = get_transactions()"
   ]
  },
  {
   "cell_type": "code",
   "execution_count": 22,
   "id": "bcec0296",
   "metadata": {},
   "outputs": [],
   "source": [
    "historical_transactions_df = trans_df.merge(fraud_labels)"
   ]
  },
  {
   "cell_type": "code",
   "execution_count": 24,
   "id": "b806d8e5",
   "metadata": {},
   "outputs": [],
   "source": [
    "historical_transactions_df.to_csv(\"historical_transactions.csv\")"
   ]
  },
  {
   "cell_type": "code",
   "execution_count": 25,
   "id": "4af0552f",
   "metadata": {},
   "outputs": [],
   "source": [
    "profiles_df.to_csv(\"kyc.csv\")"
   ]
  }
 ],
 "metadata": {
  "kernelspec": {
   "display_name": "Python 3",
   "language": "python",
   "name": "python3"
  },
  "language_info": {
   "codemirror_mode": {
    "name": "ipython",
    "version": 3
   },
   "file_extension": ".py",
   "mimetype": "text/x-python",
   "name": "python",
   "nbconvert_exporter": "python",
   "pygments_lexer": "ipython3",
   "version": "3.10.11"
  }
 },
 "nbformat": 4,
 "nbformat_minor": 5
}

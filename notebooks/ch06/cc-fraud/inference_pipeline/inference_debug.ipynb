{
 "cells": [
  {
   "cell_type": "code",
   "execution_count": 1,
   "id": "0795357e",
   "metadata": {},
   "outputs": [],
   "source": [
    "import hopsworks\n",
    "import pandas as pd\n",
    "import numpy as np"
   ]
  },
  {
   "cell_type": "code",
   "execution_count": 2,
   "id": "92fe57b0",
   "metadata": {},
   "outputs": [
    {
     "name": "stdout",
     "output_type": "stream",
     "text": [
      "Connected. Call `.close()` to terminate connection gracefully.\n",
      "\n",
      "Logged in to project, explore it here https://pocs.cloud.hopsworks.ai/p/125\n",
      "Connected. Call `.close()` to terminate connection gracefully.\n"
     ]
    }
   ],
   "source": [
    "project = hopsworks.login()\n",
    "fs = project.get_feature_store()"
   ]
  },
  {
   "cell_type": "code",
   "execution_count": 3,
   "id": "ace36af8",
   "metadata": {},
   "outputs": [],
   "source": [
    "input_transaction = {\n",
    "    'account_id': '3b91e417a8584cdc56544cf372b8fe3f',\n",
    "    'amount': 123,\n",
    "    'category': 'Cash Withdrawal',\n",
    "    'city': 'Collinwood',\n",
    "    'latitude': 40.65538,\n",
    "    'longitude': -74.38987\n",
    "}"
   ]
  },
  {
   "cell_type": "code",
   "execution_count": 4,
   "id": "6dc3ce1a",
   "metadata": {},
   "outputs": [],
   "source": [
    "fraud_fv = fs.get_feature_view(\"fraud_model_fv\", 1)"
   ]
  },
  {
   "cell_type": "code",
   "execution_count": 5,
   "id": "cdfb304d",
   "metadata": {},
   "outputs": [
    {
     "name": "stderr",
     "output_type": "stream",
     "text": [
      "VersionWarning: No training dataset version was provided to initialise serving. Defaulting to version 1.\n"
     ]
    }
   ],
   "source": [
    "helpers_df = fraud_fv.get_inference_helper(entry={'account_id': input_transaction['account_id']})"
   ]
  },
  {
   "cell_type": "code",
   "execution_count": 23,
   "id": "274b90ad",
   "metadata": {},
   "outputs": [],
   "source": [
    "def haversine(lat_1, long_1, lat_2, long_2):\n",
    "    long_diff = long_1 - long_2\n",
    "    lat_diff = lat_1 - lat_2\n",
    "\n",
    "    a = np.sin(lat_diff/2.0)**2\n",
    "    b = np.cos(lat_1) * np.cos(lat_2) * np.sin(long_diff/2.0)**2\n",
    "    return 2*np.arcsin(np.sqrt(a + b))"
   ]
  },
  {
   "cell_type": "code",
   "execution_count": 32,
   "id": "bec7d1cf",
   "metadata": {},
   "outputs": [],
   "source": [
    "passed_features = {\n",
    "    \"time_delta_t_minus_1\": ((pd.Timestamp.now() - helpers_df[\"last_transaction_datetime\"]) / np.timedelta64(1, 'D')).iloc[0],\n",
    "    \"loc_delta_t_minus_1\": haversine(helpers_df['latitude'].iloc[0], helpers_df['longitude'].iloc[0], input_transaction['latitude'], input_transaction['longitude']),\n",
    "    \"outside_city\": 0 if helpers_df['city'].iloc[0] == input_transaction['city'] else 1\n",
    "}"
   ]
  },
  {
   "cell_type": "code",
   "execution_count": 36,
   "id": "536388b4",
   "metadata": {},
   "outputs": [],
   "source": [
    "passed_features.update(input_transaction)"
   ]
  },
  {
   "cell_type": "code",
   "execution_count": 38,
   "id": "65d94517",
   "metadata": {},
   "outputs": [],
   "source": [
    "feature_vector = fraud_fv.get_feature_vector(\n",
    "                  entry={'account_id': input_transaction['account_id']},\n",
    "                  passed_features=passed_features,\n",
    "                  return_type=\"pandas\",\n",
    "            )\n"
   ]
  },
  {
   "cell_type": "code",
   "execution_count": 39,
   "id": "c75aa39e",
   "metadata": {},
   "outputs": [
    {
     "data": {
      "text/html": [
       "<div>\n",
       "<style scoped>\n",
       "    .dataframe tbody tr th:only-of-type {\n",
       "        vertical-align: middle;\n",
       "    }\n",
       "\n",
       "    .dataframe tbody tr th {\n",
       "        vertical-align: top;\n",
       "    }\n",
       "\n",
       "    .dataframe thead th {\n",
       "        text-align: right;\n",
       "    }\n",
       "</style>\n",
       "<table border=\"1\" class=\"dataframe\">\n",
       "  <thead>\n",
       "    <tr style=\"text-align: right;\">\n",
       "      <th></th>\n",
       "      <th>amount</th>\n",
       "      <th>category</th>\n",
       "      <th>time_delta_t_minus_1</th>\n",
       "      <th>loc_delta_t_minus_1</th>\n",
       "      <th>outside_city</th>\n",
       "      <th>cc_provider</th>\n",
       "      <th>cc_type</th>\n",
       "      <th>age</th>\n",
       "      <th>cc_expiration_days</th>\n",
       "      <th>count</th>\n",
       "      <th>min_amount</th>\n",
       "      <th>max_amount</th>\n",
       "      <th>mean</th>\n",
       "    </tr>\n",
       "  </thead>\n",
       "  <tbody>\n",
       "    <tr>\n",
       "      <th>0</th>\n",
       "      <td>123.0</td>\n",
       "      <td>0.0</td>\n",
       "      <td>13.623034</td>\n",
       "      <td>1.538847</td>\n",
       "      <td>0.0</td>\n",
       "      <td>1.0</td>\n",
       "      <td>1.0</td>\n",
       "      <td>57.690411</td>\n",
       "      <td>568.0</td>\n",
       "      <td>1.0</td>\n",
       "      <td>10.62</td>\n",
       "      <td>10.62</td>\n",
       "      <td>10.62</td>\n",
       "    </tr>\n",
       "  </tbody>\n",
       "</table>\n",
       "</div>"
      ],
      "text/plain": [
       "   amount  category  time_delta_t_minus_1  loc_delta_t_minus_1  outside_city  \\\n",
       "0   123.0       0.0             13.623034             1.538847           0.0   \n",
       "\n",
       "   cc_provider  cc_type        age  cc_expiration_days  count  min_amount  \\\n",
       "0          1.0      1.0  57.690411               568.0    1.0       10.62   \n",
       "\n",
       "   max_amount   mean  \n",
       "0       10.62  10.62  "
      ]
     },
     "execution_count": 39,
     "metadata": {},
     "output_type": "execute_result"
    }
   ],
   "source": [
    "feature_vector"
   ]
  }
 ],
 "metadata": {
  "kernelspec": {
   "display_name": "Python 3",
   "language": "python",
   "name": "python3"
  },
  "language_info": {
   "codemirror_mode": {
    "name": "ipython",
    "version": 3
   },
   "file_extension": ".py",
   "mimetype": "text/x-python",
   "name": "python",
   "nbconvert_exporter": "python",
   "pygments_lexer": "ipython3",
   "version": "3.10.11"
  }
 },
 "nbformat": 4,
 "nbformat_minor": 5
}

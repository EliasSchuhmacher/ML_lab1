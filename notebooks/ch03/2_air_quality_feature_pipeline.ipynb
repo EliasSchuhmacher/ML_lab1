{
 "cells": [
  {
   "cell_type": "markdown",
   "id": "a9e46aad",
   "metadata": {},
   "source": [
    "<span style=\"font-width:bold; font-size: 3rem; color:#333;\">- Part 02: Daily Feature Pipeline for Air Quality (aqicn.org) and weather (openmeteo)</span>\n",
    "\n",
    "## 🗒️ This notebook is divided into the following sections:\n",
    "1. Download and Parse Data\n",
    "2. Feature Group Insertion\n",
    "\n",
    "\n",
    "__This notebook should be scheduled to run daily__\n",
    "\n",
    "In the book, we use a GitHub Action stored here:\n",
    "[.github/workflows/air-quality-daily.yml](https://github.com/featurestorebook/mlfs-book/blob/main/.github/workflows/air-quality-daily.yml)\n",
    "\n",
    "However, you are free to use any Python Orchestration tool to schedule this program to run daily."
   ]
  },
  {
   "cell_type": "markdown",
   "id": "cfe638c6",
   "metadata": {},
   "source": [
    "### <span style='color:#ff5f27'> 📝 Imports"
   ]
  },
  {
   "cell_type": "code",
   "execution_count": 36,
   "id": "7de2e93a",
   "metadata": {},
   "outputs": [],
   "source": [
    "import datetime\n",
    "import time\n",
    "import requests\n",
    "import pandas as pd\n",
    "import hopsworks\n",
    "from functions import util\n",
    "import json\n",
    "import os\n",
    "import warnings\n",
    "warnings.filterwarnings(\"ignore\")"
   ]
  },
  {
   "cell_type": "markdown",
   "id": "da6081d1",
   "metadata": {},
   "source": [
    "## <span style='color:#ff5f27'> 🌍 Get the Sensor URL, Country, City, Street names from Hopsworks </span>\n",
    "\n",
    "__Update the values in the cell below.__\n",
    "\n",
    "__These should be the same values as in notebook 1 - the feature backfill notebook__\n"
   ]
  },
  {
   "cell_type": "code",
   "execution_count": null,
   "id": "b70cd57d",
   "metadata": {
    "tags": []
   },
   "outputs": [
    {
     "name": "stdout",
     "output_type": "stream",
     "text": [
      "Connection closed.\n",
      "Connected. Call `.close()` to terminate connection gracefully.\n",
      "\n",
      "Logged in to project, explore it here https://c.app.hopsworks.ai:443/p/1161369\n",
      "Connected. Call `.close()` to terminate connection gracefully.\n",
      "Connected. Call `.close()` to terminate connection gracefully.\n"
     ]
    },
    {
     "data": {
      "text/plain": [
       "'{\"country\": \"usa\", \"city\": \"bondville\", \"street\": \"bondville-illinois-usa\", \"aqicn_url\": \"https://api.waqi.info/feed/@7638\", \"latitude\": 40.11, \"longitude\": -88.37}'"
      ]
     },
     "execution_count": 37,
     "metadata": {},
     "output_type": "execute_result"
    }
   ],
   "source": [
    "# If you haven't set the env variable 'HOPSWORKS_API_KEY', then uncomment the next line and enter your API key\n",
    "# os.environ[\"HOPSWORKS_API_KEY\"] = \"\"\n",
    "# with open('../../data/hopsworks-api-key.txt', 'r') as file:\n",
    "#     os.environ[\"HOPSWORKS_API_KEY\"] = file.read().rstrip()\n",
    "\n",
    "project = hopsworks.login()\n",
    "fs = project.get_feature_store() \n",
    "secrets = util.secrets_api(project.name)\n",
    "\n",
    "# This line will fail if you have not registered the AQI_API_KEY as a secret in Hopsworks\n",
    "AQI_API_KEY = secrets.get_secret(\"AQI_API_KEY\").value\n",
    "location_str = secrets.get_secret(\"SENSOR_LOCATION_JSON\").value\n",
    "location = json.loads(location_str)\n",
    "\n",
    "country=location['country']\n",
    "city=location['city']\n",
    "street=location['street']\n",
    "aqicn_url=location['aqicn_url']\n",
    "latitude=location['latitude']\n",
    "longitude=location['longitude']\n",
    "\n",
    "today = datetime.date.today()\n",
    "\n",
    "location_str"
   ]
  },
  {
   "cell_type": "markdown",
   "id": "2caf9289",
   "metadata": {},
   "source": [
    "### <span style=\"color:#ff5f27;\"> 🔮 Get references to the Feature Groups </span>"
   ]
  },
  {
   "cell_type": "code",
   "execution_count": 42,
   "id": "66f5d7d5",
   "metadata": {},
   "outputs": [],
   "source": [
    "# Retrieve feature groups\n",
    "air_quality_fg = fs.get_feature_group(\n",
    "    name='air_quality_new',\n",
    "    version=1,\n",
    ")\n",
    "weather_fg = fs.get_feature_group(\n",
    "    name='weather',\n",
    "    version=1,\n",
    ")"
   ]
  },
  {
   "cell_type": "markdown",
   "id": "e10b6ce8",
   "metadata": {},
   "source": [
    "---"
   ]
  },
  {
   "cell_type": "markdown",
   "id": "1a7ffa41",
   "metadata": {},
   "source": [
    "## <span style='color:#ff5f27'> 🌫 Retrieve Today's Air Quality data (PM2.5) from the AQI API</span>\n"
   ]
  },
  {
   "cell_type": "code",
   "execution_count": null,
   "id": "6f681af6",
   "metadata": {},
   "outputs": [
    {
     "name": "stdout",
     "output_type": "stream",
     "text": [
      "Finished: Reading data from Hopsworks, using Hopsworks Feature Query Service (1.21s) \n",
      "Date already exists in the DataFrame, value updated.\n"
     ]
    }
   ],
   "source": [
    "import requests\n",
    "import pandas as pd\n",
    "\n",
    "aq_today_df = util.get_pm25(aqicn_url, country, city, street, today, AQI_API_KEY)\n",
    "# aq_today_df\n",
    "\n",
    "df_aq = air_quality_fg.read()\n",
    "\n",
    "# Check if 'date' column in df_aq is tz-aware or tz-naive\n",
    "if df_aq['date'].dt.tz is not None:\n",
    "    # Convert 'date' column in aq_today_df to tz-aware\n",
    "    aq_today_df['date'] = pd.to_datetime(aq_today_df['date']).dt.tz_localize(df_aq['date'].dt.tz)\n",
    "else:\n",
    "    # Convert 'date' column in aq_today_df to tz-naive\n",
    "    aq_today_df['date'] = pd.to_datetime(aq_today_df['date']).dt.tz_localize(None)\n",
    "\n",
    "# Ensure the 'date' column is in datetime format\n",
    "df_aq['date'] = pd.to_datetime(df_aq['date'])\n",
    "\n",
    "# Set 'date' as the index for both DataFrames\n",
    "df_aq.set_index('date', inplace=True)\n",
    "aq_today_df.set_index('date', inplace=True)\n",
    "\n",
    "# Get today's date from the aq_today_df DataFrame\n",
    "today_date = aq_today_df.index[0]\n",
    "\n",
    "# Try to access today's date row directly; if it doesn't exist, append\n",
    "try:\n",
    "    # If today_date exists, overwrite the 'pm25' value\n",
    "    df_aq.loc[today_date, 'pm25'] = aq_today_df.loc[today_date, 'pm25']\n",
    "    print('Date already exists in the DataFrame, value updated.')\n",
    "except KeyError:\n",
    "    # If today_date does not exist, concatenate\n",
    "    df_aq = pd.concat([df_aq, aq_today_df])\n",
    "    print('Date did not exist in the DataFrame, row appended.')\n",
    "\n",
    "# Sort the DataFrame by the 'date' column\n",
    "df_aq.sort_index(inplace=True)\n",
    "\n",
    "# Reindex the DataFrame to include all dates in the range, filling missing dates with NaN values\n",
    "date_range = pd.date_range(start=df_aq.index.min(), end=df_aq.index.max())\n",
    "df_aq = df_aq.reindex(date_range).rename_axis('date')\n",
    "\n",
    "# Compute the rolling mean of the last 3 days, allowing for NaN values\n",
    "df_aq['rolling_mean_pm25'] = df_aq['pm25'].rolling(window=3, min_periods=1).mean()\n",
    "\n",
    "# Reset the index if needed\n",
    "df_aq.reset_index(inplace=True)\n",
    "\n",
    "# Drop rows with NaN values\n",
    "df_aq.dropna(inplace=True)\n"
   ]
  },
  {
   "cell_type": "code",
   "execution_count": 57,
   "id": "4f6894de",
   "metadata": {},
   "outputs": [
    {
     "data": {
      "text/html": [
       "<div>\n",
       "<style scoped>\n",
       "    .dataframe tbody tr th:only-of-type {\n",
       "        vertical-align: middle;\n",
       "    }\n",
       "\n",
       "    .dataframe tbody tr th {\n",
       "        vertical-align: top;\n",
       "    }\n",
       "\n",
       "    .dataframe thead th {\n",
       "        text-align: right;\n",
       "    }\n",
       "</style>\n",
       "<table border=\"1\" class=\"dataframe\">\n",
       "  <thead>\n",
       "    <tr style=\"text-align: right;\">\n",
       "      <th></th>\n",
       "      <th>date</th>\n",
       "      <th>pm25</th>\n",
       "      <th>rolling_mean_pm25</th>\n",
       "      <th>country</th>\n",
       "      <th>city</th>\n",
       "      <th>street</th>\n",
       "      <th>url</th>\n",
       "    </tr>\n",
       "  </thead>\n",
       "  <tbody>\n",
       "    <tr>\n",
       "      <th>0</th>\n",
       "      <td>2015-01-29 00:00:00+00:00</td>\n",
       "      <td>66.0</td>\n",
       "      <td>66.000000</td>\n",
       "      <td>usa</td>\n",
       "      <td>bondville</td>\n",
       "      <td>bondville-illinois-usa</td>\n",
       "      <td>https://api.waqi.info/feed/@7638</td>\n",
       "    </tr>\n",
       "    <tr>\n",
       "      <th>1</th>\n",
       "      <td>2015-01-30 00:00:00+00:00</td>\n",
       "      <td>16.0</td>\n",
       "      <td>41.000000</td>\n",
       "      <td>usa</td>\n",
       "      <td>bondville</td>\n",
       "      <td>bondville-illinois-usa</td>\n",
       "      <td>https://api.waqi.info/feed/@7638</td>\n",
       "    </tr>\n",
       "    <tr>\n",
       "      <th>2</th>\n",
       "      <td>2015-01-31 00:00:00+00:00</td>\n",
       "      <td>46.0</td>\n",
       "      <td>42.666667</td>\n",
       "      <td>usa</td>\n",
       "      <td>bondville</td>\n",
       "      <td>bondville-illinois-usa</td>\n",
       "      <td>https://api.waqi.info/feed/@7638</td>\n",
       "    </tr>\n",
       "    <tr>\n",
       "      <th>3</th>\n",
       "      <td>2015-02-01 00:00:00+00:00</td>\n",
       "      <td>53.0</td>\n",
       "      <td>38.333333</td>\n",
       "      <td>usa</td>\n",
       "      <td>bondville</td>\n",
       "      <td>bondville-illinois-usa</td>\n",
       "      <td>https://api.waqi.info/feed/@7638</td>\n",
       "    </tr>\n",
       "    <tr>\n",
       "      <th>4</th>\n",
       "      <td>2015-02-02 00:00:00+00:00</td>\n",
       "      <td>22.0</td>\n",
       "      <td>40.333333</td>\n",
       "      <td>usa</td>\n",
       "      <td>bondville</td>\n",
       "      <td>bondville-illinois-usa</td>\n",
       "      <td>https://api.waqi.info/feed/@7638</td>\n",
       "    </tr>\n",
       "    <tr>\n",
       "      <th>...</th>\n",
       "      <td>...</td>\n",
       "      <td>...</td>\n",
       "      <td>...</td>\n",
       "      <td>...</td>\n",
       "      <td>...</td>\n",
       "      <td>...</td>\n",
       "      <td>...</td>\n",
       "    </tr>\n",
       "    <tr>\n",
       "      <th>3568</th>\n",
       "      <td>2024-11-05 00:00:00+00:00</td>\n",
       "      <td>17.0</td>\n",
       "      <td>19.333333</td>\n",
       "      <td>usa</td>\n",
       "      <td>bondville</td>\n",
       "      <td>bondville-illinois-usa</td>\n",
       "      <td>https://api.waqi.info/feed/@7638</td>\n",
       "    </tr>\n",
       "    <tr>\n",
       "      <th>3569</th>\n",
       "      <td>2024-11-06 00:00:00+00:00</td>\n",
       "      <td>13.0</td>\n",
       "      <td>16.000000</td>\n",
       "      <td>usa</td>\n",
       "      <td>bondville</td>\n",
       "      <td>bondville-illinois-usa</td>\n",
       "      <td>https://api.waqi.info/feed/@7638</td>\n",
       "    </tr>\n",
       "    <tr>\n",
       "      <th>3570</th>\n",
       "      <td>2024-11-07 00:00:00+00:00</td>\n",
       "      <td>18.0</td>\n",
       "      <td>16.000000</td>\n",
       "      <td>usa</td>\n",
       "      <td>bondville</td>\n",
       "      <td>bondville-illinois-usa</td>\n",
       "      <td>https://api.waqi.info/feed/@7638</td>\n",
       "    </tr>\n",
       "    <tr>\n",
       "      <th>3571</th>\n",
       "      <td>2024-11-08 00:00:00+00:00</td>\n",
       "      <td>31.0</td>\n",
       "      <td>20.666667</td>\n",
       "      <td>usa</td>\n",
       "      <td>bondville</td>\n",
       "      <td>bondville-illinois-usa</td>\n",
       "      <td>https://api.waqi.info/feed/@7638</td>\n",
       "    </tr>\n",
       "    <tr>\n",
       "      <th>3577</th>\n",
       "      <td>2024-11-14 00:00:00+00:00</td>\n",
       "      <td>46.0</td>\n",
       "      <td>46.000000</td>\n",
       "      <td>usa</td>\n",
       "      <td>bondville</td>\n",
       "      <td>bondville-illinois-usa</td>\n",
       "      <td>https://api.waqi.info/feed/@7638</td>\n",
       "    </tr>\n",
       "  </tbody>\n",
       "</table>\n",
       "<p>3368 rows × 7 columns</p>\n",
       "</div>"
      ],
      "text/plain": [
       "                          date  pm25  rolling_mean_pm25 country       city  \\\n",
       "0    2015-01-29 00:00:00+00:00  66.0          66.000000     usa  bondville   \n",
       "1    2015-01-30 00:00:00+00:00  16.0          41.000000     usa  bondville   \n",
       "2    2015-01-31 00:00:00+00:00  46.0          42.666667     usa  bondville   \n",
       "3    2015-02-01 00:00:00+00:00  53.0          38.333333     usa  bondville   \n",
       "4    2015-02-02 00:00:00+00:00  22.0          40.333333     usa  bondville   \n",
       "...                        ...   ...                ...     ...        ...   \n",
       "3568 2024-11-05 00:00:00+00:00  17.0          19.333333     usa  bondville   \n",
       "3569 2024-11-06 00:00:00+00:00  13.0          16.000000     usa  bondville   \n",
       "3570 2024-11-07 00:00:00+00:00  18.0          16.000000     usa  bondville   \n",
       "3571 2024-11-08 00:00:00+00:00  31.0          20.666667     usa  bondville   \n",
       "3577 2024-11-14 00:00:00+00:00  46.0          46.000000     usa  bondville   \n",
       "\n",
       "                      street                               url  \n",
       "0     bondville-illinois-usa  https://api.waqi.info/feed/@7638  \n",
       "1     bondville-illinois-usa  https://api.waqi.info/feed/@7638  \n",
       "2     bondville-illinois-usa  https://api.waqi.info/feed/@7638  \n",
       "3     bondville-illinois-usa  https://api.waqi.info/feed/@7638  \n",
       "4     bondville-illinois-usa  https://api.waqi.info/feed/@7638  \n",
       "...                      ...                               ...  \n",
       "3568  bondville-illinois-usa  https://api.waqi.info/feed/@7638  \n",
       "3569  bondville-illinois-usa  https://api.waqi.info/feed/@7638  \n",
       "3570  bondville-illinois-usa  https://api.waqi.info/feed/@7638  \n",
       "3571  bondville-illinois-usa  https://api.waqi.info/feed/@7638  \n",
       "3577  bondville-illinois-usa  https://api.waqi.info/feed/@7638  \n",
       "\n",
       "[3368 rows x 7 columns]"
      ]
     },
     "execution_count": 57,
     "metadata": {},
     "output_type": "execute_result"
    }
   ],
   "source": [
    "df_aq"
   ]
  },
  {
   "cell_type": "code",
   "execution_count": 28,
   "id": "b9e24eda",
   "metadata": {},
   "outputs": [
    {
     "name": "stdout",
     "output_type": "stream",
     "text": [
      "<class 'pandas.core.frame.DataFrame'>\n",
      "RangeIndex: 1 entries, 0 to 0\n",
      "Data columns (total 6 columns):\n",
      " #   Column   Non-Null Count  Dtype              \n",
      "---  ------   --------------  -----              \n",
      " 0   pm25     1 non-null      float32            \n",
      " 1   country  1 non-null      object             \n",
      " 2   city     1 non-null      object             \n",
      " 3   street   1 non-null      object             \n",
      " 4   date     1 non-null      datetime64[ns, UTC]\n",
      " 5   url      1 non-null      object             \n",
      "dtypes: datetime64[ns, UTC](1), float32(1), object(4)\n",
      "memory usage: 172.0+ bytes\n"
     ]
    }
   ],
   "source": [
    "aq_today_df.info()"
   ]
  },
  {
   "cell_type": "markdown",
   "id": "af845ab6",
   "metadata": {},
   "source": [
    "## <span style='color:#ff5f27'> 🌦 Get Weather Forecast data</span>"
   ]
  },
  {
   "cell_type": "code",
   "execution_count": 6,
   "id": "d2ecb3e7",
   "metadata": {},
   "outputs": [
    {
     "name": "stdout",
     "output_type": "stream",
     "text": [
      "Coordinates 40.0°N -88.25°E\n",
      "Elevation 221.0 m asl\n",
      "Timezone None None\n",
      "Timezone difference to GMT+0 0 s\n"
     ]
    },
    {
     "data": {
      "text/html": [
       "<div>\n",
       "<style scoped>\n",
       "    .dataframe tbody tr th:only-of-type {\n",
       "        vertical-align: middle;\n",
       "    }\n",
       "\n",
       "    .dataframe tbody tr th {\n",
       "        vertical-align: top;\n",
       "    }\n",
       "\n",
       "    .dataframe thead th {\n",
       "        text-align: right;\n",
       "    }\n",
       "</style>\n",
       "<table border=\"1\" class=\"dataframe\">\n",
       "  <thead>\n",
       "    <tr style=\"text-align: right;\">\n",
       "      <th></th>\n",
       "      <th>date</th>\n",
       "      <th>temperature_2m_mean</th>\n",
       "      <th>precipitation_sum</th>\n",
       "      <th>wind_speed_10m_max</th>\n",
       "      <th>wind_direction_10m_dominant</th>\n",
       "      <th>city</th>\n",
       "    </tr>\n",
       "  </thead>\n",
       "  <tbody>\n",
       "    <tr>\n",
       "      <th>0</th>\n",
       "      <td>2024-11-14</td>\n",
       "      <td>11.10</td>\n",
       "      <td>0.0</td>\n",
       "      <td>15.188415</td>\n",
       "      <td>264.559753</td>\n",
       "      <td>bondville</td>\n",
       "    </tr>\n",
       "    <tr>\n",
       "      <th>1</th>\n",
       "      <td>2024-11-15</td>\n",
       "      <td>8.80</td>\n",
       "      <td>0.0</td>\n",
       "      <td>8.217153</td>\n",
       "      <td>298.810699</td>\n",
       "      <td>bondville</td>\n",
       "    </tr>\n",
       "    <tr>\n",
       "      <th>2</th>\n",
       "      <td>2024-11-16</td>\n",
       "      <td>4.40</td>\n",
       "      <td>0.0</td>\n",
       "      <td>7.653705</td>\n",
       "      <td>131.185822</td>\n",
       "      <td>bondville</td>\n",
       "    </tr>\n",
       "    <tr>\n",
       "      <th>3</th>\n",
       "      <td>2024-11-17</td>\n",
       "      <td>9.00</td>\n",
       "      <td>0.0</td>\n",
       "      <td>14.182355</td>\n",
       "      <td>203.962494</td>\n",
       "      <td>bondville</td>\n",
       "    </tr>\n",
       "    <tr>\n",
       "      <th>4</th>\n",
       "      <td>2024-11-18</td>\n",
       "      <td>9.00</td>\n",
       "      <td>0.0</td>\n",
       "      <td>9.957108</td>\n",
       "      <td>49.398785</td>\n",
       "      <td>bondville</td>\n",
       "    </tr>\n",
       "    <tr>\n",
       "      <th>5</th>\n",
       "      <td>2024-11-19</td>\n",
       "      <td>14.10</td>\n",
       "      <td>0.3</td>\n",
       "      <td>26.208397</td>\n",
       "      <td>142.815216</td>\n",
       "      <td>bondville</td>\n",
       "    </tr>\n",
       "    <tr>\n",
       "      <th>6</th>\n",
       "      <td>2024-11-20</td>\n",
       "      <td>7.00</td>\n",
       "      <td>0.0</td>\n",
       "      <td>6.369050</td>\n",
       "      <td>317.290619</td>\n",
       "      <td>bondville</td>\n",
       "    </tr>\n",
       "    <tr>\n",
       "      <th>7</th>\n",
       "      <td>2024-11-21</td>\n",
       "      <td>10.05</td>\n",
       "      <td>0.2</td>\n",
       "      <td>22.545315</td>\n",
       "      <td>70.407631</td>\n",
       "      <td>bondville</td>\n",
       "    </tr>\n",
       "    <tr>\n",
       "      <th>8</th>\n",
       "      <td>2024-11-22</td>\n",
       "      <td>6.40</td>\n",
       "      <td>0.0</td>\n",
       "      <td>22.565422</td>\n",
       "      <td>213.943634</td>\n",
       "      <td>bondville</td>\n",
       "    </tr>\n",
       "    <tr>\n",
       "      <th>9</th>\n",
       "      <td>2024-11-23</td>\n",
       "      <td>4.15</td>\n",
       "      <td>0.0</td>\n",
       "      <td>10.661107</td>\n",
       "      <td>258.310669</td>\n",
       "      <td>bondville</td>\n",
       "    </tr>\n",
       "  </tbody>\n",
       "</table>\n",
       "</div>"
      ],
      "text/plain": [
       "        date  temperature_2m_mean  precipitation_sum  wind_speed_10m_max  \\\n",
       "0 2024-11-14                11.10                0.0           15.188415   \n",
       "1 2024-11-15                 8.80                0.0            8.217153   \n",
       "2 2024-11-16                 4.40                0.0            7.653705   \n",
       "3 2024-11-17                 9.00                0.0           14.182355   \n",
       "4 2024-11-18                 9.00                0.0            9.957108   \n",
       "5 2024-11-19                14.10                0.3           26.208397   \n",
       "6 2024-11-20                 7.00                0.0            6.369050   \n",
       "7 2024-11-21                10.05                0.2           22.545315   \n",
       "8 2024-11-22                 6.40                0.0           22.565422   \n",
       "9 2024-11-23                 4.15                0.0           10.661107   \n",
       "\n",
       "   wind_direction_10m_dominant       city  \n",
       "0                   264.559753  bondville  \n",
       "1                   298.810699  bondville  \n",
       "2                   131.185822  bondville  \n",
       "3                   203.962494  bondville  \n",
       "4                    49.398785  bondville  \n",
       "5                   142.815216  bondville  \n",
       "6                   317.290619  bondville  \n",
       "7                    70.407631  bondville  \n",
       "8                   213.943634  bondville  \n",
       "9                   258.310669  bondville  "
      ]
     },
     "execution_count": 6,
     "metadata": {},
     "output_type": "execute_result"
    }
   ],
   "source": [
    "hourly_df = util.get_hourly_weather_forecast(city, latitude, longitude)\n",
    "hourly_df = hourly_df.set_index('date')\n",
    "\n",
    "# We will only make 1 daily prediction, so we will replace the hourly forecasts with a single daily forecast\n",
    "# We only want the daily weather data, so only get weather at 12:00\n",
    "daily_df = hourly_df.between_time('11:59', '12:01')\n",
    "daily_df = daily_df.reset_index()\n",
    "daily_df['date'] = pd.to_datetime(daily_df['date']).dt.date\n",
    "daily_df['date'] = pd.to_datetime(daily_df['date'])\n",
    "daily_df['city'] = city\n",
    "daily_df"
   ]
  },
  {
   "cell_type": "code",
   "execution_count": 7,
   "id": "4c563109",
   "metadata": {},
   "outputs": [
    {
     "name": "stdout",
     "output_type": "stream",
     "text": [
      "<class 'pandas.core.frame.DataFrame'>\n",
      "RangeIndex: 10 entries, 0 to 9\n",
      "Data columns (total 6 columns):\n",
      " #   Column                       Non-Null Count  Dtype         \n",
      "---  ------                       --------------  -----         \n",
      " 0   date                         10 non-null     datetime64[ns]\n",
      " 1   temperature_2m_mean          10 non-null     float32       \n",
      " 2   precipitation_sum            10 non-null     float32       \n",
      " 3   wind_speed_10m_max           10 non-null     float32       \n",
      " 4   wind_direction_10m_dominant  10 non-null     float32       \n",
      " 5   city                         10 non-null     object        \n",
      "dtypes: datetime64[ns](1), float32(4), object(1)\n",
      "memory usage: 448.0+ bytes\n"
     ]
    }
   ],
   "source": [
    "daily_df.info()"
   ]
  },
  {
   "cell_type": "markdown",
   "id": "4e1f5008",
   "metadata": {
    "tags": []
   },
   "source": [
    "## <span style=\"color:#ff5f27;\">⬆️ Uploading new data to the Feature Store</span>"
   ]
  },
  {
   "cell_type": "code",
   "execution_count": 30,
   "id": "1a9de5ba",
   "metadata": {},
   "outputs": [
    {
     "name": "stdout",
     "output_type": "stream",
     "text": [
      "2024-11-14 19:22:00,980 INFO: \t1 expectation(s) included in expectation_suite.\n",
      "Validation succeeded.\n",
      "Validation Report saved successfully, explore a summary at https://c.app.hopsworks.ai:443/p/1161369/fs/1152072/fg/1347992\n"
     ]
    },
    {
     "data": {
      "application/vnd.jupyter.widget-view+json": {
       "model_id": "1189330e25324d28809beedd2740f5ba",
       "version_major": 2,
       "version_minor": 0
      },
      "text/plain": [
       "Uploading Dataframe: 0.00% |          | Rows 0/1 | Elapsed Time: 00:00 | Remaining Time: ?"
      ]
     },
     "metadata": {},
     "output_type": "display_data"
    },
    {
     "name": "stdout",
     "output_type": "stream",
     "text": [
      "Launching job: air_quality_new_1_offline_fg_materialization\n",
      "Job started successfully, you can follow the progress at \n",
      "https://c.app.hopsworks.ai/p/1161369/jobs/named/air_quality_new_1_offline_fg_materialization/executions\n"
     ]
    },
    {
     "data": {
      "text/plain": [
       "(<hsfs.core.job.Job at 0x17430ff40>,\n",
       " {\n",
       "   \"success\": true,\n",
       "   \"results\": [\n",
       "     {\n",
       "       \"success\": true,\n",
       "       \"expectation_config\": {\n",
       "         \"expectation_type\": \"expect_column_min_to_be_between\",\n",
       "         \"kwargs\": {\n",
       "           \"column\": \"pm25\",\n",
       "           \"min_value\": -0.1,\n",
       "           \"max_value\": 500.0,\n",
       "           \"strict_min\": true\n",
       "         },\n",
       "         \"meta\": {\n",
       "           \"expectationId\": 671795\n",
       "         }\n",
       "       },\n",
       "       \"result\": {\n",
       "         \"observed_value\": 36.0,\n",
       "         \"element_count\": 1,\n",
       "         \"missing_count\": null,\n",
       "         \"missing_percent\": null\n",
       "       },\n",
       "       \"meta\": {\n",
       "         \"ingestionResult\": \"INGESTED\",\n",
       "         \"validationTime\": \"2024-11-14T06:22:00.000980Z\"\n",
       "       },\n",
       "       \"exception_info\": {\n",
       "         \"raised_exception\": false,\n",
       "         \"exception_message\": null,\n",
       "         \"exception_traceback\": null\n",
       "       }\n",
       "     }\n",
       "   ],\n",
       "   \"evaluation_parameters\": {},\n",
       "   \"statistics\": {\n",
       "     \"evaluated_expectations\": 1,\n",
       "     \"successful_expectations\": 1,\n",
       "     \"unsuccessful_expectations\": 0,\n",
       "     \"success_percent\": 100.0\n",
       "   },\n",
       "   \"meta\": {\n",
       "     \"great_expectations_version\": \"0.18.12\",\n",
       "     \"expectation_suite_name\": \"aq_expectation_suite\",\n",
       "     \"run_id\": {\n",
       "       \"run_name\": null,\n",
       "       \"run_time\": \"2024-11-14T19:22:00.980546+01:00\"\n",
       "     },\n",
       "     \"batch_kwargs\": {\n",
       "       \"ge_batch_id\": \"575589bc-a2b5-11ef-b98b-fe175aafa5a8\"\n",
       "     },\n",
       "     \"batch_markers\": {},\n",
       "     \"batch_parameters\": {},\n",
       "     \"validation_time\": \"20241114T182200.980416Z\",\n",
       "     \"expectation_suite_meta\": {\n",
       "       \"great_expectations_version\": \"0.18.12\"\n",
       "     }\n",
       "   }\n",
       " })"
      ]
     },
     "execution_count": 30,
     "metadata": {},
     "output_type": "execute_result"
    }
   ],
   "source": [
    "# Insert new data row, containing todays reading and also last 3 day rolling mean\n",
    "air_quality_fg.insert(df_aq.tail(1))"
   ]
  },
  {
   "cell_type": "code",
   "execution_count": 31,
   "id": "d491b0a0",
   "metadata": {},
   "outputs": [
    {
     "name": "stdout",
     "output_type": "stream",
     "text": [
      "2024-11-14 19:22:12,439 INFO: \t2 expectation(s) included in expectation_suite.\n",
      "Validation succeeded.\n",
      "Validation Report saved successfully, explore a summary at https://c.app.hopsworks.ai:443/p/1161369/fs/1152072/fg/1342814\n"
     ]
    },
    {
     "data": {
      "application/vnd.jupyter.widget-view+json": {
       "model_id": "f3ecb594f89d4cf18e28bd32bfb82ffd",
       "version_major": 2,
       "version_minor": 0
      },
      "text/plain": [
       "Uploading Dataframe: 0.00% |          | Rows 0/10 | Elapsed Time: 00:00 | Remaining Time: ?"
      ]
     },
     "metadata": {},
     "output_type": "display_data"
    },
    {
     "name": "stdout",
     "output_type": "stream",
     "text": [
      "Launching job: weather_1_offline_fg_materialization\n",
      "Job started successfully, you can follow the progress at \n",
      "https://c.app.hopsworks.ai/p/1161369/jobs/named/weather_1_offline_fg_materialization/executions\n"
     ]
    },
    {
     "data": {
      "text/plain": [
       "(<hsfs.core.job.Job at 0x17515ebc0>,\n",
       " {\n",
       "   \"success\": true,\n",
       "   \"results\": [\n",
       "     {\n",
       "       \"success\": true,\n",
       "       \"expectation_config\": {\n",
       "         \"expectation_type\": \"expect_column_min_to_be_between\",\n",
       "         \"kwargs\": {\n",
       "           \"column\": \"precipitation_sum\",\n",
       "           \"min_value\": -0.1,\n",
       "           \"max_value\": 1000.0,\n",
       "           \"strict_min\": true\n",
       "         },\n",
       "         \"meta\": {\n",
       "           \"expectationId\": 666639\n",
       "         }\n",
       "       },\n",
       "       \"result\": {\n",
       "         \"observed_value\": 0.0,\n",
       "         \"element_count\": 10,\n",
       "         \"missing_count\": null,\n",
       "         \"missing_percent\": null\n",
       "       },\n",
       "       \"meta\": {\n",
       "         \"ingestionResult\": \"INGESTED\",\n",
       "         \"validationTime\": \"2024-11-14T06:22:12.000439Z\"\n",
       "       },\n",
       "       \"exception_info\": {\n",
       "         \"raised_exception\": false,\n",
       "         \"exception_message\": null,\n",
       "         \"exception_traceback\": null\n",
       "       }\n",
       "     },\n",
       "     {\n",
       "       \"success\": true,\n",
       "       \"expectation_config\": {\n",
       "         \"expectation_type\": \"expect_column_min_to_be_between\",\n",
       "         \"kwargs\": {\n",
       "           \"column\": \"wind_speed_10m_max\",\n",
       "           \"min_value\": -0.1,\n",
       "           \"max_value\": 1000.0,\n",
       "           \"strict_min\": true\n",
       "         },\n",
       "         \"meta\": {\n",
       "           \"expectationId\": 666640\n",
       "         }\n",
       "       },\n",
       "       \"result\": {\n",
       "         \"observed_value\": 6.369049549102783,\n",
       "         \"element_count\": 10,\n",
       "         \"missing_count\": null,\n",
       "         \"missing_percent\": null\n",
       "       },\n",
       "       \"meta\": {\n",
       "         \"ingestionResult\": \"INGESTED\",\n",
       "         \"validationTime\": \"2024-11-14T06:22:12.000439Z\"\n",
       "       },\n",
       "       \"exception_info\": {\n",
       "         \"raised_exception\": false,\n",
       "         \"exception_message\": null,\n",
       "         \"exception_traceback\": null\n",
       "       }\n",
       "     }\n",
       "   ],\n",
       "   \"evaluation_parameters\": {},\n",
       "   \"statistics\": {\n",
       "     \"evaluated_expectations\": 2,\n",
       "     \"successful_expectations\": 2,\n",
       "     \"unsuccessful_expectations\": 0,\n",
       "     \"success_percent\": 100.0\n",
       "   },\n",
       "   \"meta\": {\n",
       "     \"great_expectations_version\": \"0.18.12\",\n",
       "     \"expectation_suite_name\": \"weather_expectation_suite\",\n",
       "     \"run_id\": {\n",
       "       \"run_name\": null,\n",
       "       \"run_time\": \"2024-11-14T19:22:12.439157+01:00\"\n",
       "     },\n",
       "     \"batch_kwargs\": {\n",
       "       \"ge_batch_id\": \"5e2a45ca-a2b5-11ef-b98b-fe175aafa5a8\"\n",
       "     },\n",
       "     \"batch_markers\": {},\n",
       "     \"batch_parameters\": {},\n",
       "     \"validation_time\": \"20241114T182212.439061Z\",\n",
       "     \"expectation_suite_meta\": {\n",
       "       \"great_expectations_version\": \"0.18.12\"\n",
       "     }\n",
       "   }\n",
       " })"
      ]
     },
     "execution_count": 31,
     "metadata": {},
     "output_type": "execute_result"
    }
   ],
   "source": [
    "# Insert new data\n",
    "weather_fg.insert(daily_df)"
   ]
  },
  {
   "cell_type": "markdown",
   "id": "c83e9e2d",
   "metadata": {},
   "source": [
    "## <span style=\"color:#ff5f27;\">⏭️ **Next:** Part 03: Training Pipeline\n",
    " </span> \n",
    "\n",
    "In the following notebook you will read from a feature group and create training dataset within the feature store\n"
   ]
  }
 ],
 "metadata": {
  "kernelspec": {
   "display_name": "base",
   "language": "python",
   "name": "python3"
  },
  "language_info": {
   "codemirror_mode": {
    "name": "ipython",
    "version": 3
   },
   "file_extension": ".py",
   "mimetype": "text/x-python",
   "name": "python",
   "nbconvert_exporter": "python",
   "pygments_lexer": "ipython3",
   "version": "3.10.9"
  }
 },
 "nbformat": 4,
 "nbformat_minor": 5
}
